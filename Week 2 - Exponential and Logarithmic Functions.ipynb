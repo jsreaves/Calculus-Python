{
 "cells": [
  {
   "cell_type": "code",
   "execution_count": 176,
   "id": "d216fe66",
   "metadata": {},
   "outputs": [],
   "source": [
    "import math\n",
    "import matplotlib.pyplot as plt\n",
    "import numpy as np"
   ]
  },
  {
   "cell_type": "markdown",
   "id": "53139db8",
   "metadata": {},
   "source": [
    "# SymPy basics"
   ]
  },
  {
   "cell_type": "markdown",
   "id": "85e5d9b7",
   "metadata": {},
   "source": [
    "## Importing from SymPy\n",
    "The statement `from library import *` imports all names from the library."
   ]
  },
  {
   "cell_type": "code",
   "execution_count": 177,
   "id": "ff4afca4",
   "metadata": {},
   "outputs": [],
   "source": [
    "from sympy import *"
   ]
  },
  {
   "cell_type": "markdown",
   "id": "5f0f48dc",
   "metadata": {},
   "source": [
    "## Symbols\n",
    "To use variables as unknowns, we define them with `symbols()`. `symbols()` can be used to define multiple variables at once, in a string separated by spaces or commas. Like Python variables, symbols may have names longer than one character. This could be useful if, for example, you are using a Greek letter as a variable."
   ]
  },
  {
   "cell_type": "code",
   "execution_count": 178,
   "id": "1873ceee",
   "metadata": {},
   "outputs": [],
   "source": [
    "x = symbols('x')             # Defining a single symbol\n",
    "a, b, c = symbols('a, b, c') # Defining three symbols at once\n",
    "tau = symbols('tau')         # Defining a multi-character symbol"
   ]
  },
  {
   "cell_type": "markdown",
   "id": "97151b56",
   "metadata": {},
   "source": [
    "## Substitution\n",
    "Suppose we want to substitute a value for the variable x in an expression, say `x = 5`. Typing `x = 5` will just redefine the Python variable, rather than changing the expression. Instead, we must use `subs(x, 5)`"
   ]
  },
  {
   "cell_type": "code",
   "execution_count": 179,
   "id": "059ec199",
   "metadata": {},
   "outputs": [
    {
     "data": {
      "text/latex": [
       "$\\displaystyle 9$"
      ],
      "text/plain": [
       "9"
      ]
     },
     "execution_count": 179,
     "metadata": {},
     "output_type": "execute_result"
    }
   ],
   "source": [
    "x = symbols('x')      # Define the symbol\n",
    "expression = 2*x - 1  # Define an expression\n",
    "expression.subs(x, 5) # Substitute 5 for x"
   ]
  },
  {
   "cell_type": "markdown",
   "id": "d33e5a5c",
   "metadata": {},
   "source": [
    "## Rational numbers\n",
    "To keep a rational number $\\frac{a}{b}$ represented as its exact value (equivalent to writing it as a fraction), use `Rational(a, b)` from SymPy."
   ]
  },
  {
   "cell_type": "code",
   "execution_count": 180,
   "id": "0c4b8668",
   "metadata": {},
   "outputs": [
    {
     "data": {
      "text/latex": [
       "$\\displaystyle \\frac{1}{3}$"
      ],
      "text/plain": [
       "1/3"
      ]
     },
     "execution_count": 180,
     "metadata": {},
     "output_type": "execute_result"
    }
   ],
   "source": [
    "Rational(1, 3) # 1/3 is kept as a rational number"
   ]
  },
  {
   "cell_type": "markdown",
   "id": "ab4c4776",
   "metadata": {},
   "source": [
    "## Evaluating\n",
    "When solving problems, we often want a decimal approximation of the answer. To convert an expression to a floating point number with SymPy, use `evalf()`"
   ]
  },
  {
   "cell_type": "code",
   "execution_count": 181,
   "id": "eb8710bf",
   "metadata": {},
   "outputs": [
    {
     "data": {
      "text/latex": [
       "$\\displaystyle 1.4142135623731$"
      ],
      "text/plain": [
       "1.41421356237310"
      ]
     },
     "execution_count": 181,
     "metadata": {},
     "output_type": "execute_result"
    }
   ],
   "source": [
    "expr = sqrt(2) # Rational number\n",
    "expr.evalf()   # Decimal approximation"
   ]
  },
  {
   "cell_type": "markdown",
   "id": "9b0bdcb9",
   "metadata": {},
   "source": [
    "# Exponential and logarithmic functions"
   ]
  },
  {
   "cell_type": "markdown",
   "id": "708e2d39",
   "metadata": {},
   "source": [
    "## Exponential expressions"
   ]
  },
  {
   "cell_type": "markdown",
   "id": "16371221",
   "metadata": {},
   "source": [
    "### General\n",
    "An exponential function can be obtained with Python's syntax for powers, `**`."
   ]
  },
  {
   "cell_type": "code",
   "execution_count": 182,
   "id": "88f35550",
   "metadata": {},
   "outputs": [
    {
     "data": {
      "text/latex": [
       "$\\displaystyle b^{x}$"
      ],
      "text/plain": [
       "b**x"
      ]
     },
     "execution_count": 182,
     "metadata": {},
     "output_type": "execute_result"
    }
   ],
   "source": [
    "b, x = symbols('b x')\n",
    "b**x"
   ]
  },
  {
   "cell_type": "markdown",
   "id": "0b547bab",
   "metadata": {},
   "source": [
    "### Natural\n",
    "The natural exponential function, $e^{x}$, is obtained with the SymPy function `exp(x)`."
   ]
  },
  {
   "cell_type": "code",
   "execution_count": 183,
   "id": "5b149ad4",
   "metadata": {},
   "outputs": [
    {
     "data": {
      "text/latex": [
       "$\\displaystyle e^{x}$"
      ],
      "text/plain": [
       "exp(x)"
      ]
     },
     "execution_count": 183,
     "metadata": {},
     "output_type": "execute_result"
    }
   ],
   "source": [
    "x = symbols('x')\n",
    "exp(x)"
   ]
  },
  {
   "cell_type": "markdown",
   "id": "efde3ffb",
   "metadata": {},
   "source": [
    "## Logarithmic expressions\n",
    "The logarithm $\\log _{b}(x)$ can be obtained with the SymPy function `log(x, b)`.  The first parameter of this function is the argument, the second is the base.  The result is expressed in terms of the **change of base formula**:"
   ]
  },
  {
   "cell_type": "code",
   "execution_count": 184,
   "id": "553f6279",
   "metadata": {},
   "outputs": [
    {
     "data": {
      "text/latex": [
       "$\\displaystyle \\frac{\\log{\\left(x \\right)}}{\\log{\\left(b \\right)}}$"
      ],
      "text/plain": [
       "log(x)/log(b)"
      ]
     },
     "execution_count": 184,
     "metadata": {},
     "output_type": "execute_result"
    }
   ],
   "source": [
    "x, b = symbols('x b')\n",
    "log(x, b)"
   ]
  },
  {
   "cell_type": "markdown",
   "id": "6593497f",
   "metadata": {},
   "source": [
    "The function `ln(x)` can also be used for the natural logarithm:"
   ]
  },
  {
   "cell_type": "code",
   "execution_count": 185,
   "id": "c5e82f79",
   "metadata": {},
   "outputs": [
    {
     "data": {
      "text/latex": [
       "$\\displaystyle \\log{\\left(x \\right)}$"
      ],
      "text/plain": [
       "log(x)"
      ]
     },
     "execution_count": 185,
     "metadata": {},
     "output_type": "execute_result"
    }
   ],
   "source": [
    "x = symbols('x')\n",
    "ln(x)"
   ]
  },
  {
   "cell_type": "markdown",
   "id": "b948e8e2",
   "metadata": {},
   "source": [
    "## Evaluating expressions"
   ]
  },
  {
   "cell_type": "markdown",
   "id": "e901f5b7",
   "metadata": {},
   "source": [
    "To evaluate an exponential or logarithmic expression as a floating-point number, use `evalf()`.  For example, the following code is used to find a decimal approximation of $e^{2}$:"
   ]
  },
  {
   "cell_type": "code",
   "execution_count": 186,
   "id": "55614187",
   "metadata": {},
   "outputs": [
    {
     "data": {
      "text/latex": [
       "$\\displaystyle 7.38905609893065$"
      ],
      "text/plain": [
       "7.38905609893065"
      ]
     },
     "execution_count": 186,
     "metadata": {},
     "output_type": "execute_result"
    }
   ],
   "source": [
    "expr = exp(2) # Set the expression equal to e squared\n",
    "expr.evalf()  # Evaluate as a floating point number"
   ]
  },
  {
   "cell_type": "markdown",
   "id": "77b5411f",
   "metadata": {},
   "source": [
    "## Simplification"
   ]
  },
  {
   "cell_type": "markdown",
   "id": "afa3e902",
   "metadata": {},
   "source": [
    "### Expressions\n",
    "\n",
    "**Example:** Simplify $e^{2 \\ln (x)-\\ln (2 y)}$"
   ]
  },
  {
   "cell_type": "code",
   "execution_count": 187,
   "id": "72e482a9",
   "metadata": {},
   "outputs": [
    {
     "data": {
      "text/latex": [
       "$\\displaystyle \\frac{x^{2}}{2 y}$"
      ],
      "text/plain": [
       "x**2/(2*y)"
      ]
     },
     "execution_count": 187,
     "metadata": {},
     "output_type": "execute_result"
    }
   ],
   "source": [
    "x, y = symbols('x y', positive=True)\n",
    "exp(2*ln(x) - ln(2*y))"
   ]
  },
  {
   "cell_type": "markdown",
   "id": "8db96cc2",
   "metadata": {},
   "source": [
    "### Exponentials"
   ]
  },
  {
   "cell_type": "code",
   "execution_count": 188,
   "id": "9e1622cb",
   "metadata": {},
   "outputs": [],
   "source": [
    "p = symbols('p', integer=True)       # Let p be an integer\n",
    "n = symbols('n', real=True)          # Let n be a real number\n",
    "a, b = symbols('a b', positive=True) # Let a and b be positive"
   ]
  },
  {
   "cell_type": "markdown",
   "id": "4c657ae8",
   "metadata": {},
   "source": [
    "**Multiplication property:** $b^{n} \\cdot b^{p}=b^{n+p} \\text { for all } b, n, p$\n",
    "\n",
    "\n",
    "\n"
   ]
  },
  {
   "cell_type": "code",
   "execution_count": 189,
   "id": "54da2209",
   "metadata": {},
   "outputs": [
    {
     "data": {
      "text/latex": [
       "$\\displaystyle b^{n + p}$"
      ],
      "text/plain": [
       "b**(n + p)"
      ]
     },
     "execution_count": 189,
     "metadata": {},
     "output_type": "execute_result"
    }
   ],
   "source": [
    "powsimp(b**n*b**p)"
   ]
  },
  {
   "cell_type": "code",
   "execution_count": 190,
   "id": "a97f8454",
   "metadata": {},
   "outputs": [
    {
     "data": {
      "text/latex": [
       "$\\displaystyle b^{n} b^{p}$"
      ],
      "text/plain": [
       "b**n*b**p"
      ]
     },
     "execution_count": 190,
     "metadata": {},
     "output_type": "execute_result"
    }
   ],
   "source": [
    "expand_power_exp(b**(n+p))"
   ]
  },
  {
   "cell_type": "markdown",
   "id": "0c544ed9",
   "metadata": {},
   "source": [
    "**Power property:** $\\left(b^{n}\\right)^{p}=b^{n \\cdot p} \\text { for all numbers } b, n \\text { and integers } p$"
   ]
  },
  {
   "cell_type": "code",
   "execution_count": 191,
   "id": "c69de47b",
   "metadata": {},
   "outputs": [
    {
     "data": {
      "text/latex": [
       "$\\displaystyle b^{n p}$"
      ],
      "text/plain": [
       "b**(n*p)"
      ]
     },
     "execution_count": 191,
     "metadata": {},
     "output_type": "execute_result"
    }
   ],
   "source": [
    "powdenest((b**n)**p)"
   ]
  },
  {
   "cell_type": "markdown",
   "id": "7704e9d0",
   "metadata": {},
   "source": [
    "**Power of a product:** $a^{n} \\cdot b^{n}=(a \\cdot b)^{n}$"
   ]
  },
  {
   "cell_type": "code",
   "execution_count": 192,
   "id": "b45bdf25",
   "metadata": {},
   "outputs": [
    {
     "data": {
      "text/latex": [
       "$\\displaystyle a^{n} b^{n}$"
      ],
      "text/plain": [
       "a**n*b**n"
      ]
     },
     "execution_count": 192,
     "metadata": {},
     "output_type": "execute_result"
    }
   ],
   "source": [
    "expand_power_base((a*b)**n)"
   ]
  },
  {
   "cell_type": "markdown",
   "id": "f5519909",
   "metadata": {},
   "source": [
    "### Logarithms"
   ]
  },
  {
   "cell_type": "code",
   "execution_count": 193,
   "id": "50dfb3f8",
   "metadata": {},
   "outputs": [],
   "source": [
    "x, y = symbols('x y', positive=True) # Let x and y be positive\n",
    "n = symbols('n', real=True)          # Let n be a real number"
   ]
  },
  {
   "cell_type": "markdown",
   "id": "69904a50",
   "metadata": {},
   "source": [
    "**Product Property:**  $\\ln (x \\cdot y)=\\ln (x)+\\ln (y)$\n",
    "\n",
    "**Log of a Power:**  $\\ln \\left(x^{n}\\right)=n \\cdot \\ln (x)$"
   ]
  },
  {
   "cell_type": "markdown",
   "id": "43415dc5",
   "metadata": {},
   "source": [
    "- `expand_log()` applies the two properties from left to right (expanding the expression).\n",
    "- `logcombine()` applies the two properties from right to left (making the expression more compact)."
   ]
  },
  {
   "cell_type": "markdown",
   "id": "6d1e850c",
   "metadata": {},
   "source": [
    "#### Example\n",
    "Simplify $\\ln x-3 \\ln y+4 \\ln (z+1)$"
   ]
  },
  {
   "cell_type": "code",
   "execution_count": 194,
   "id": "6e950db1",
   "metadata": {},
   "outputs": [
    {
     "data": {
      "text/latex": [
       "$\\displaystyle \\log{\\left(\\frac{x \\left(z + 1\\right)^{4}}{y^{3}} \\right)}$"
      ],
      "text/plain": [
       "log(x*(z + 1)**4/y**3)"
      ]
     },
     "execution_count": 194,
     "metadata": {},
     "output_type": "execute_result"
    }
   ],
   "source": [
    "x, y, z = symbols('x, y, z', positive=True)\n",
    "logcombine(ln(x) - 3*ln(y) + 4*ln(z + 1))"
   ]
  },
  {
   "cell_type": "markdown",
   "id": "a3d90e9d",
   "metadata": {},
   "source": [
    "## Solving exponential and logarithmic equations"
   ]
  },
  {
   "cell_type": "markdown",
   "id": "85c379cc",
   "metadata": {},
   "source": [
    "### Writing an equation\n",
    "To create an equation $a = b$ in SymPy, we use a special function, `Eq(a, b`).  For example, to create the equation $5x + 3 = 1$, we would write:"
   ]
  },
  {
   "cell_type": "code",
   "execution_count": 195,
   "id": "5359afe3",
   "metadata": {},
   "outputs": [
    {
     "data": {
      "text/latex": [
       "$\\displaystyle 5 x + 3 = 1$"
      ],
      "text/plain": [
       "Eq(5*x + 3, 1)"
      ]
     },
     "execution_count": 195,
     "metadata": {},
     "output_type": "execute_result"
    }
   ],
   "source": [
    "x = symbols('x')\n",
    "Eq(5*x + 3, 1)"
   ]
  },
  {
   "cell_type": "markdown",
   "id": "991b3546",
   "metadata": {},
   "source": [
    "### Solving an equation\n",
    "To solve an equation for the variable $x$, we use the SymPy function `solveset(equation, x)`.  For example, solve $5x + 3 = 1$ for $x$."
   ]
  },
  {
   "cell_type": "code",
   "execution_count": 196,
   "id": "898cfe84",
   "metadata": {},
   "outputs": [
    {
     "data": {
      "text/latex": [
       "$\\displaystyle \\left\\{- \\frac{2}{5}\\right\\}$"
      ],
      "text/plain": [
       "{-2/5}"
      ]
     },
     "execution_count": 196,
     "metadata": {},
     "output_type": "execute_result"
    }
   ],
   "source": [
    "x = symbols('x')\n",
    "solveset(Eq(5*x + 3, 1), x)"
   ]
  },
  {
   "cell_type": "code",
   "execution_count": 197,
   "id": "d6435dd2",
   "metadata": {},
   "outputs": [
    {
     "data": {
      "text/latex": [
       "$\\displaystyle \\left\\{-1, 1\\right\\}$"
      ],
      "text/plain": [
       "{-1, 1}"
      ]
     },
     "execution_count": 197,
     "metadata": {},
     "output_type": "execute_result"
    }
   ],
   "source": [
    "x = symbols('x')\n",
    "solveset(Eq(x**2, 1), x)"
   ]
  },
  {
   "cell_type": "markdown",
   "id": "5d3b09cf",
   "metadata": {},
   "source": [
    "### Finding zeroes\n",
    "`solveset()` automatically assumes that any expression not in an `Eq()` is equal to zero. "
   ]
  },
  {
   "cell_type": "code",
   "execution_count": 198,
   "id": "2c33aa8e",
   "metadata": {},
   "outputs": [
    {
     "data": {
      "text/latex": [
       "$\\displaystyle \\left\\{-1, 1\\right\\}$"
      ],
      "text/plain": [
       "{-1, 1}"
      ]
     },
     "execution_count": 198,
     "metadata": {},
     "output_type": "execute_result"
    }
   ],
   "source": [
    "x = symbols('x')\n",
    "solveset(x**2 - 1, x)"
   ]
  },
  {
   "cell_type": "markdown",
   "id": "a4049067",
   "metadata": {},
   "source": [
    "### Domains for solutions\n",
    "Consider the equation $2^x = 8$. We expect the answer $x = 3$. But because SymPy assumes that symbols are complex numbers, `solveset()` does not give us this answer. Instead, we get a ConditionSet. To keep this from happening, we can set the domain for solutions $x$ to be real numbers only. We do this by adding the argument `domain = S.Reals` to `solveset()`."
   ]
  },
  {
   "cell_type": "code",
   "execution_count": 199,
   "id": "8dc96d75",
   "metadata": {},
   "outputs": [
    {
     "data": {
      "text/latex": [
       "$\\displaystyle \\left\\{3\\right\\}$"
      ],
      "text/plain": [
       "{3}"
      ]
     },
     "execution_count": 199,
     "metadata": {},
     "output_type": "execute_result"
    }
   ],
   "source": [
    "x = symbols('x')\n",
    "solveset(Eq(2**x, 8), x, domain=S.Reals)"
   ]
  },
  {
   "cell_type": "markdown",
   "id": "8c61b990",
   "metadata": {},
   "source": [
    "### solve()\n",
    "SymPy documentation recommends using `solveset()`. However, in cases where `solveset()` does not work, `solve()` can be used with the same syntax."
   ]
  },
  {
   "cell_type": "markdown",
   "id": "154a01ef",
   "metadata": {},
   "source": [
    "### Example 1\n",
    "Solve for x: $e^{3 x^{2}}=\\left(e^{4}\\right)^{4 x+3}$"
   ]
  },
  {
   "cell_type": "code",
   "execution_count": 200,
   "id": "ed559ee9",
   "metadata": {},
   "outputs": [
    {
     "data": {
      "text/latex": [
       "$\\displaystyle \\left\\{- \\frac{2}{3}, 6\\right\\}$"
      ],
      "text/plain": [
       "{-2/3, 6}"
      ]
     },
     "execution_count": 200,
     "metadata": {},
     "output_type": "execute_result"
    }
   ],
   "source": [
    "x = symbols('x')\n",
    "# Optional: name the equation to reduce the amount of parentheses in the solve function\n",
    "my_equation = Eq(exp(3*x**2), (exp(4))**(4*x+3))\n",
    "# Solve for x and consider only real solutions\n",
    "solveset(my_equation, x, domain=S.Reals)"
   ]
  },
  {
   "cell_type": "markdown",
   "id": "442fb3e8",
   "metadata": {},
   "source": [
    "### Example 2\n",
    "The function $g(x)$ has the form $g(x)=3^{k x}$, where $k$ is a constant. If $g(-4)=9$, then what is the value of $k$?"
   ]
  },
  {
   "cell_type": "code",
   "execution_count": 201,
   "id": "a95e589d",
   "metadata": {},
   "outputs": [
    {
     "data": {
      "text/latex": [
       "$\\displaystyle \\left\\{- \\frac{1}{2}\\right\\}$"
      ],
      "text/plain": [
       "{-1/2}"
      ]
     },
     "execution_count": 201,
     "metadata": {},
     "output_type": "execute_result"
    }
   ],
   "source": [
    "k = symbols('k')\n",
    "solveset(Eq(3**(-4*k),9),k,domain=S.Reals) # Solve equation with real solutions"
   ]
  },
  {
   "cell_type": "code",
   "execution_count": 202,
   "id": "92855509",
   "metadata": {},
   "outputs": [
    {
     "data": {
      "text/latex": [
       "$\\displaystyle -0.5$"
      ],
      "text/plain": [
       "-0.500000000000000"
      ]
     },
     "execution_count": 202,
     "metadata": {},
     "output_type": "execute_result"
    }
   ],
   "source": [
    "sol = -log(9)/(4*log(3))\n",
    "sol.evalf()"
   ]
  },
  {
   "cell_type": "markdown",
   "id": "534b3a7a",
   "metadata": {},
   "source": [
    "### Example 3\n",
    "The population $P$ of Miami, Florida is given by the function $P(t)=362,000 e^{0.01 t}$, where $t$ is the number of years since 2000."
   ]
  },
  {
   "cell_type": "markdown",
   "id": "19a45dba",
   "metadata": {},
   "source": [
    "- According to the function $P(t)$, what was the population of Miami in the year 2010?"
   ]
  },
  {
   "cell_type": "code",
   "execution_count": 203,
   "id": "974aac89",
   "metadata": {},
   "outputs": [
    {
     "data": {
      "text/latex": [
       "$\\displaystyle 400071.872343384$"
      ],
      "text/plain": [
       "400071.872343384"
      ]
     },
     "execution_count": 203,
     "metadata": {},
     "output_type": "execute_result"
    }
   ],
   "source": [
    "t = symbols('t')\n",
    "# Store the population function\n",
    "pop = 362000*exp(0.01*t)\n",
    "# Substitute 10 for t\n",
    "pop.subs(t,10)"
   ]
  },
  {
   "cell_type": "markdown",
   "id": "3fc27ae1",
   "metadata": {},
   "source": [
    "- According to the function $P(t)$, in what year will the population of Miami reach 450,000 people? "
   ]
  },
  {
   "cell_type": "code",
   "execution_count": 204,
   "id": "2a608bf0",
   "metadata": {},
   "outputs": [
    {
     "data": {
      "text/latex": [
       "$\\displaystyle \\left\\{100.0 \\log{\\left(\\frac{225}{181} \\right)}\\right\\}$"
      ],
      "text/plain": [
       "{100.0*log(225/181)}"
      ]
     },
     "execution_count": 204,
     "metadata": {},
     "output_type": "execute_result"
    }
   ],
   "source": [
    "t = symbols('t')\n",
    "pop = 362000*exp(0.01*t)\n",
    "# Solve for t when pop = 450000\n",
    "solveset(Eq(pop, 450000), t, domain=S.Reals)"
   ]
  },
  {
   "cell_type": "code",
   "execution_count": 205,
   "id": "fb8cc80b",
   "metadata": {},
   "outputs": [
    {
     "data": {
      "text/latex": [
       "$\\displaystyle \\left\\{21.7603370938594\\right\\}$"
      ],
      "text/plain": [
       "{21.7603370938594}"
      ]
     },
     "execution_count": 205,
     "metadata": {},
     "output_type": "execute_result"
    }
   ],
   "source": [
    "sol=solveset(Eq(pop, 450000), t, domain=S.Reals)\n",
    "sol.evalf()"
   ]
  },
  {
   "cell_type": "markdown",
   "id": "a16cae7c",
   "metadata": {},
   "source": [
    "# Graphing examples"
   ]
  },
  {
   "cell_type": "markdown",
   "id": "6d3509d0",
   "metadata": {},
   "source": [
    "## Numpy & Matplotlib"
   ]
  },
  {
   "cell_type": "code",
   "execution_count": 206,
   "id": "801238d8",
   "metadata": {},
   "outputs": [
    {
     "data": {
      "image/png": "[encoded data removed]",
      "text/plain": [
       "<Figure size 432x288 with 1 Axes>"
      ]
     },
     "metadata": {
      "needs_background": "light"
     },
     "output_type": "display_data"
    }
   ],
   "source": [
    "def create_graph():\n",
    "    x = np.linspace(0.001, 16, 2000)\n",
    "    y_e = np.log(x)    # y = ln(x)\n",
    "    y_2 = np.log2(x)   # y = log_2(x)\n",
    "    y_10 = np.log10(x) # y = log(x)\n",
    "    \n",
    "    plt.plot(x, y_e)\n",
    "    plt.plot(x, y_2)\n",
    "    plt.plot(x, y_10)\n",
    "    \n",
    "    plt.legend(['ln', 'log2', 'log10'], loc='lower right')\n",
    "    plt.xticks(range(math.floor(min(x)), math.ceil(max(x))))\n",
    "    plt.axhline(color='black', linewidth=0.5)\n",
    "    plt.axvline(color='black', linewidth=0.5)\n",
    "    plt.show()\n",
    "\n",
    "create_graph()"
   ]
  },
  {
   "cell_type": "markdown",
   "id": "d13bc947",
   "metadata": {},
   "source": [
    "## Sympy"
   ]
  },
  {
   "cell_type": "code",
   "execution_count": 207,
   "id": "690f1554",
   "metadata": {},
   "outputs": [
    {
     "data": {
      "image/png": "[encoded data removed]",
      "text/plain": [
       "<Figure size 432x288 with 1 Axes>"
      ]
     },
     "metadata": {
      "needs_background": "light"
     },
     "output_type": "display_data"
    }
   ],
   "source": [
    "from sympy.plotting import *\n",
    "from sympy import Symbol\n",
    "\n",
    "x = Symbol(\"x\")\n",
    "plot1 = plot(x**2, (x, -3, 3), show=False)\n",
    "plot1[0].line_color='r'\n",
    "plot1.show()"
   ]
  },
  {
   "cell_type": "markdown",
   "id": "1465eee6",
   "metadata": {},
   "source": [
    "Plotting 2 functions on the same axes:"
   ]
  },
  {
   "cell_type": "code",
   "execution_count": 208,
   "id": "689cc2ab",
   "metadata": {},
   "outputs": [
    {
     "data": {
      "image/png": "[encoded data removed]",
      "text/plain": [
       "<Figure size 432x288 with 1 Axes>"
      ]
     },
     "metadata": {
      "needs_background": "light"
     },
     "output_type": "display_data"
    }
   ],
   "source": [
    "f1 = 3*x + 1\n",
    "f2 = x**3\n",
    "plot(f1, f2);"
   ]
  },
  {
   "cell_type": "markdown",
   "id": "d942a614",
   "metadata": {},
   "source": [
    "Example with a **piecewise function**:"
   ]
  },
  {
   "cell_type": "code",
   "execution_count": 209,
   "id": "55dfa562",
   "metadata": {},
   "outputs": [
    {
     "data": {
      "image/png": "[encoded data removed]",
      "text/plain": [
       "<Figure size 432x288 with 1 Axes>"
      ]
     },
     "metadata": {
      "needs_background": "light"
     },
     "output_type": "display_data"
    }
   ],
   "source": [
    "f1 = 3*x + 1\n",
    "f2 = x**3\n",
    "plot((f1, (x, -10, 0)), (f2, (x, 0, 5)));"
   ]
  },
  {
   "cell_type": "markdown",
   "id": "a07956e8",
   "metadata": {},
   "source": [
    "### Quadratic calculator"
   ]
  },
  {
   "cell_type": "code",
   "execution_count": 210,
   "id": "e35322cf",
   "metadata": {},
   "outputs": [],
   "source": [
    "from numpy import sqrt\n",
    "from sympy.plotting import *\n",
    "from sympy import Symbol"
   ]
  },
  {
   "cell_type": "code",
   "execution_count": 211,
   "id": "3dc8315d",
   "metadata": {},
   "outputs": [],
   "source": [
    "# ax^2 + bx + c\n",
    "def zeros(a, b, c):\n",
    "    D = sqrt(b*b - 4*a*c)\n",
    "    x1 = (-b + D) / (2*a)\n",
    "    x2 = (-b - D) / (2*a)\n",
    "    print(\"The first root is: \", x1)\n",
    "    print(\"The second root is: \", x2)"
   ]
  },
  {
   "cell_type": "code",
   "execution_count": 212,
   "id": "0e810363",
   "metadata": {},
   "outputs": [],
   "source": [
    "def printGraph(a, b, c):\n",
    "    x = Symbol(\"x\")\n",
    "    plot(a*x**2 + b*x + x)"
   ]
  },
  {
   "cell_type": "code",
   "execution_count": 213,
   "id": "ebbe2ada",
   "metadata": {},
   "outputs": [
    {
     "name": "stdout",
     "output_type": "stream",
     "text": [
      "The first root is:  -1.0\n",
      "The second root is:  -1.0\n"
     ]
    }
   ],
   "source": [
    "# x^2 + 2x + 1\n",
    "zeros(1, 2, 1)"
   ]
  },
  {
   "cell_type": "code",
   "execution_count": 214,
   "id": "363e68e7",
   "metadata": {},
   "outputs": [
    {
     "data": {
      "image/png": "[encoded data removed]",
      "text/plain": [
       "<Figure size 432x288 with 1 Axes>"
      ]
     },
     "metadata": {
      "needs_background": "light"
     },
     "output_type": "display_data"
    }
   ],
   "source": [
    "printGraph(1, 2, 1)"
   ]
  }
 ],
 "metadata": {
  "kernelspec": {
   "display_name": "Python 3 (ipykernel)",
   "language": "python",
   "name": "python3"
  },
  "language_info": {
   "codemirror_mode": {
    "name": "ipython",
    "version": 3
   },
   "file_extension": ".py",
   "mimetype": "text/x-python",
   "name": "python",
   "nbconvert_exporter": "python",
   "pygments_lexer": "ipython3",
   "version": "3.9.12"
  }
 },
 "nbformat": 4,
 "nbformat_minor": 5
}
